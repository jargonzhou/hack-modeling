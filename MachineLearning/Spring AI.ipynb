{
 "cells": [
  {
   "cell_type": "markdown",
   "id": "f08e570b",
   "metadata": {},
   "source": [
    "# Spring AI\n",
    "* https://docs.spring.io/spring-ai/reference/index.html\n",
    "* [awesom-spring-ai](https://github.com/spring-ai-community/awesome-spring-ai)\n",
    "\n",
    "Spring AI addresses the fundamental challenge of AI integration: `Connecting your enterprise Data and APIs with AI Models`."
   ]
  },
  {
   "cell_type": "markdown",
   "id": "3bdda0aa",
   "metadata": {},
   "source": [
    "# Chat Models"
   ]
  },
  {
   "cell_type": "markdown",
   "id": "21601fb2",
   "metadata": {},
   "source": [
    "- [Ollama Chat](https://docs.spring.io/spring-ai/reference/api/chat/ollama-chat.html)"
   ]
  },
  {
   "cell_type": "markdown",
   "id": "b0a64c13",
   "metadata": {},
   "source": [
    "# Example"
   ]
  },
  {
   "cell_type": "markdown",
   "id": "bae6d230",
   "metadata": {},
   "source": [
    "- [Getting Started with Spring AI and RAG: A Practical Guide](https://www.danvega.dev/blog/getting-started-with-spring-ai-rag) - 2024-10-22"
   ]
  }
 ],
 "metadata": {
  "language_info": {
   "name": "python"
  }
 },
 "nbformat": 4,
 "nbformat_minor": 5
}
